{
  "nbformat": 4,
  "nbformat_minor": 0,
  "metadata": {
    "colab": {
      "provenance": [],
      "authorship_tag": "ABX9TyPN+9t+N9rKFnNbDDrHR8e2",
      "include_colab_link": true
    },
    "kernelspec": {
      "name": "python3",
      "display_name": "Python 3"
    },
    "language_info": {
      "name": "python"
    }
  },
  "cells": [
    {
      "cell_type": "markdown",
      "metadata": {
        "id": "view-in-github",
        "colab_type": "text"
      },
      "source": [
        "<a href=\"https://colab.research.google.com/github/ErAniketKumar/NumPy/blob/main/numpyBasic1.ipynb\" target=\"_parent\"><img src=\"https://colab.research.google.com/assets/colab-badge.svg\" alt=\"Open In Colab\"/></a>"
      ]
    },
    {
      "cell_type": "code",
      "execution_count": null,
      "metadata": {
        "colab": {
          "base_uri": "https://localhost:8080/"
        },
        "id": "5kz6xL3q4JZy",
        "outputId": "3b984f53-9029-4671-a958-ea22145da190"
      },
      "outputs": [
        {
          "output_type": "stream",
          "name": "stdout",
          "text": [
            "jai mata di\n"
          ]
        }
      ],
      "source": [
        "# print(\"jai mata di\")"
      ]
    },
    {
      "cell_type": "code",
      "source": [
        "#numoy:- numerical python\n",
        "#in 2005, travus oliphant created NumPy package.\n",
        "# it is a package that defines a multidimention object\n",
        "#and associate fast math function\n",
        "\n",
        "# also has function for wordling domain linear like forier transformation trigo inverse and math,atical fundamental\n",
        "\n",
        "\n"
      ],
      "metadata": {
        "id": "lsAx2s984VR0"
      },
      "execution_count": null,
      "outputs": []
    },
    {
      "cell_type": "code",
      "source": [
        "#array contiguous memory location it contain homogeneous data type\n",
        "import numpy as np;\n"
      ],
      "metadata": {
        "id": "lth-dyl05VUN"
      },
      "execution_count": null,
      "outputs": []
    },
    {
      "cell_type": "code",
      "source": [
        "l1=[10,20,30]\n",
        "l2=[40,50,60];\n",
        "print(l1+l2); #concinate both value and output show [10,20,30,40,50,60] no mathemitical operation\n",
        "# but\n",
        "a=np.array([10,20,30])\n",
        "b=np.array([40,50,60])\n",
        "print(a+b) # here perform mqathimatical operation\n",
        "type(l1)# i.e l1 and l2 is not a array it is a list in python\n",
        "type(a)#but a and b is numpy array through numpy thorough library\n",
        "print(a*b) #also do mathmatical operation\n",
        "\n"
      ],
      "metadata": {
        "colab": {
          "base_uri": "https://localhost:8080/"
        },
        "id": "67YAYQGA5lwH",
        "outputId": "cab113e6-e1da-4fda-be8a-e5300adfbb07"
      },
      "execution_count": null,
      "outputs": [
        {
          "output_type": "stream",
          "name": "stdout",
          "text": [
            "[10, 20, 30, 40, 50, 60]\n",
            "[50 70 90]\n",
            "[ 400 1000 1800]\n"
          ]
        }
      ]
    },
    {
      "cell_type": "code",
      "source": [
        "arr=np.array([10,20,30,40,50,100])\n",
        "brr=np.array([[1,2,3],[4,5,6],[7,8,9]])\n",
        "print(brr)\n"
      ],
      "metadata": {
        "colab": {
          "base_uri": "https://localhost:8080/"
        },
        "id": "cqy447ib5r3e",
        "outputId": "11c11936-1ef1-4ab5-b6f0-c5a45c21d8de"
      },
      "execution_count": null,
      "outputs": [
        {
          "output_type": "stream",
          "name": "stdout",
          "text": [
            "[[1 2 3]\n",
            " [4 5 6]\n",
            " [7 8 9]]\n"
          ]
        }
      ]
    },
    {
      "cell_type": "code",
      "source": [
        "#slicing in numpy\n",
        "\n",
        "print(arr[0:5]) # I.E 0 INDEX TO 5 ELEMENT\n",
        "\n",
        "print(arr[3:])# start with 3rd index frint till the end\n",
        "print(arr[2]) #print only index\n",
        "print(arr[1:4]) #starting index to ending index\n",
        "\n",
        "print(brr[2,1:]) # STARTING ROW STATRING INDEX IN 2D MATRIX\n",
        "print(np.shape(brr)) #show row and column\n",
        "print(np.ndim(brr)) #show aray dimention i.e 2d , 1d, 3d array\n",
        "\n",
        "print(arr.dtype) #type show which type of element are store\n",
        "\n",
        "\n",
        "\n",
        "\n"
      ],
      "metadata": {
        "colab": {
          "base_uri": "https://localhost:8080/"
        },
        "id": "fbTwkMGB78F5",
        "outputId": "81b560a1-87bd-47ea-bd8f-81c8813c800f"
      },
      "execution_count": null,
      "outputs": [
        {
          "output_type": "stream",
          "name": "stdout",
          "text": [
            "[10 20 30 40 50]\n",
            "[ 40  50 100]\n",
            "30\n",
            "[20 30 40]\n",
            "[8 9]\n",
            "(3, 3)\n",
            "2\n",
            "int64\n"
          ]
        }
      ]
    },
    {
      "cell_type": "code",
      "source": [
        "#inspecting of array\n",
        "#a.shape -- array dimention row column\n",
        "# len(a) length of array\n",
        "# b.ndim-- number of array dimention\n",
        "# e.size -- number of array element\n",
        "# b.dtype - data type of array element\n",
        "# b.astype(int) convert on array to a diferent type\n"
      ],
      "metadata": {
        "id": "Qdxhsmgv8UHz"
      },
      "execution_count": null,
      "outputs": []
    },
    {
      "cell_type": "code",
      "source": [
        "import numpy as np\n",
        "a=[[30,40,50],[20,50,60]];\n",
        "arr=np.array(a);\n",
        "print(arr);\n",
        "print(arr.shape)\n",
        "print(len(arr)) #length of inner array\n",
        "print(np.size(arr)) #no of total element\n",
        "print(type(arr))\n",
        "print(arr.dtype)\n",
        "print(arr.astype(float)) #value print in the form of float\n",
        "#also we can declear float array and conver value in int\n"
      ],
      "metadata": {
        "colab": {
          "base_uri": "https://localhost:8080/"
        },
        "id": "sxmZqIPEmCGo",
        "outputId": "5b5592fe-5c51-4baa-8b1e-f97e315ad718"
      },
      "execution_count": null,
      "outputs": [
        {
          "output_type": "stream",
          "name": "stdout",
          "text": [
            "[[30 40 50]\n",
            " [20 50 60]]\n",
            "(2, 3)\n",
            "2\n",
            "6\n",
            "<class 'numpy.ndarray'>\n",
            "int64\n",
            "[[30. 40. 50.]\n",
            " [20. 50. 60.]]\n"
          ]
        }
      ]
    },
    {
      "cell_type": "markdown",
      "source": [],
      "metadata": {
        "id": "0loFihZanfMG"
      }
    },
    {
      "cell_type": "code",
      "source": [
        "#mathematical operations and function\n",
        "import numpy as np\n",
        "arr1=np.array([10,20,30,40]);\n",
        "arr2=np.array([30,40,50,60]);\n",
        "print(arr1+arr2) #both are same\n",
        "print(np.add(arr1, arr2)) #same as above line\n",
        "\n",
        "a1=[[10,20],[30,40]];\n",
        "a2=[[40,50],[60,70]];\n",
        "print(a1+a2) # value not add but both array merge\n",
        "print(np.add(a1,a2))\n",
        "print(arr1-arr2);\n",
        "print(np.power(arr1,arr2))\n"
      ],
      "metadata": {
        "colab": {
          "base_uri": "https://localhost:8080/"
        },
        "id": "VEar2BEGmhW5",
        "outputId": "bd6eca0f-0cef-45a3-b4df-2138e72bb56d"
      },
      "execution_count": null,
      "outputs": [
        {
          "output_type": "stream",
          "name": "stdout",
          "text": [
            "[ 40  60  80 100]\n",
            "[ 40  60  80 100]\n",
            "[[10, 20], [30, 40], [40, 50], [60, 70]]\n",
            "[[ 50  70]\n",
            " [ 90 110]]\n",
            "[-20 -20 -20 -20]\n",
            "[5076944270305263616                   0 1694479359798149120\n",
            "                   0]\n"
          ]
        }
      ]
    },
    {
      "cell_type": "code",
      "source": [
        "#conbinning and splitting array\n"
      ],
      "metadata": {
        "id": "y7o8PuKXnzNl"
      },
      "execution_count": null,
      "outputs": []
    }
  ]
}