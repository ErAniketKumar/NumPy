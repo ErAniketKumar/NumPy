{
  "nbformat": 4,
  "nbformat_minor": 0,
  "metadata": {
    "colab": {
      "provenance": [],
      "authorship_tag": "ABX9TyNGqjuOphlsvgGZ1LmQWNF3",
      "include_colab_link": true
    },
    "kernelspec": {
      "name": "python3",
      "display_name": "Python 3"
    },
    "language_info": {
      "name": "python"
    }
  },
  "cells": [
    {
      "cell_type": "markdown",
      "metadata": {
        "id": "view-in-github",
        "colab_type": "text"
      },
      "source": [
        "<a href=\"https://colab.research.google.com/github/ErAniketKumar/PythonBasic/blob/main/numpy_arraybasic1.ipynb\" target=\"_parent\"><img src=\"https://colab.research.google.com/assets/colab-badge.svg\" alt=\"Open In Colab\"/></a>"
      ]
    },
    {
      "cell_type": "code",
      "execution_count": null,
      "metadata": {
        "colab": {
          "base_uri": "https://localhost:8080/"
        },
        "id": "VtZiSGR0BSLs",
        "outputId": "8af3fe95-91e0-4f26-fa52-712d8bf194dd"
      },
      "outputs": [
        {
          "output_type": "stream",
          "name": "stdout",
          "text": [
            "[1 2 3 4 5]\n",
            "[[1 2 3]\n",
            " [3 4 5]\n",
            " [2 0 9]]\n"
          ]
        }
      ],
      "source": [
        "import numpy as np\n",
        "#in list we can only store 1d array so we use numpy array\n",
        "\n",
        "a=np.array([1,2,3,4,5])\n",
        "print(a)\n",
        "#2d array\n",
        "b=np.array([[1,2,3],\n",
        "            [3,4,5],\n",
        "            [2,0,9]])\n",
        "print(b)"
      ]
    },
    {
      "cell_type": "code",
      "source": [
        "print(a.size) #number of element in array\n",
        "print(b.size)\n",
        "\n",
        "print(a.shape)\n",
        "print(b.shape) #(row, columns)\n",
        "\n",
        "#data type\n",
        "\n",
        "print(a.dtype)\n",
        "print(b.dtype)\n",
        "\n",
        "#transpose\n",
        "\n",
        "print(b.transpose()) #transpose the data of matrix row goes to column and column goes to row\n"
      ],
      "metadata": {
        "colab": {
          "base_uri": "https://localhost:8080/"
        },
        "id": "N0rUjwhyBn4X",
        "outputId": "59a3b7d2-e641-470e-a905-9cb897d08872"
      },
      "execution_count": null,
      "outputs": [
        {
          "output_type": "stream",
          "name": "stdout",
          "text": [
            "5\n",
            "9\n",
            "(5,)\n",
            "(3, 3)\n",
            "int64\n",
            "int64\n",
            "[[1 3 2]\n",
            " [2 4 0]\n",
            " [3 5 9]]\n"
          ]
        }
      ]
    },
    {
      "cell_type": "code",
      "source": [
        "print(np.empty((3,3), dtype = int)) #print 3x3 matrix and data in randomly generate and data type of data is int\n"
      ],
      "metadata": {
        "colab": {
          "base_uri": "https://localhost:8080/"
        },
        "id": "vQeryCmdCCBh",
        "outputId": "85896c7a-4306-4d77-c6ce-61468a408814"
      },
      "execution_count": null,
      "outputs": [
        {
          "output_type": "stream",
          "name": "stdout",
          "text": [
            "[[94104784797233              0              0]\n",
            " [             0              0              0]\n",
            " [             0              0              0]]\n"
          ]
        }
      ]
    },
    {
      "cell_type": "code",
      "source": [
        "x=np.ones(6)\n",
        "print(x)"
      ],
      "metadata": {
        "colab": {
          "base_uri": "https://localhost:8080/"
        },
        "id": "RIrQfwOJDdhK",
        "outputId": "ff16b4bf-6e20-456c-c5e3-78263a43832a"
      },
      "execution_count": null,
      "outputs": [
        {
          "output_type": "stream",
          "name": "stdout",
          "text": [
            "[1. 1. 1. 1. 1. 1.]\n"
          ]
        }
      ]
    },
    {
      "cell_type": "code",
      "source": [
        "\n",
        "y=np.ones((3,5)) # 3 row and 5 columns all data is one and float type\n",
        "y\n",
        "\n"
      ],
      "metadata": {
        "colab": {
          "base_uri": "https://localhost:8080/"
        },
        "id": "qgOIRsY0EDAe",
        "outputId": "6e92f299-dc5e-46e5-f03e-99111d44cce9"
      },
      "execution_count": null,
      "outputs": [
        {
          "output_type": "execute_result",
          "data": {
            "text/plain": [
              "array([[1., 1., 1., 1., 1.],\n",
              "       [1., 1., 1., 1., 1.],\n",
              "       [1., 1., 1., 1., 1.]])"
            ]
          },
          "metadata": {},
          "execution_count": 19
        }
      ]
    },
    {
      "cell_type": "code",
      "source": [
        "z=np.ones((3,3), dtype=int) # 3x3 matrix all data is 1 and data type of element is int\n",
        "z"
      ],
      "metadata": {
        "colab": {
          "base_uri": "https://localhost:8080/"
        },
        "id": "3xRCdgRZELev",
        "outputId": "36c4e10d-259d-4d09-e356-27960473bb7a"
      },
      "execution_count": null,
      "outputs": [
        {
          "output_type": "execute_result",
          "data": {
            "text/plain": [
              "array([[1, 1, 1],\n",
              "       [1, 1, 1],\n",
              "       [1, 1, 1]])"
            ]
          },
          "metadata": {},
          "execution_count": 20
        }
      ]
    },
    {
      "cell_type": "code",
      "source": [
        "c=np.zeros((4,4));\n",
        "c\n",
        "\n",
        "d=np.zeros((4,4), dtype=int)\n",
        "d"
      ],
      "metadata": {
        "colab": {
          "base_uri": "https://localhost:8080/"
        },
        "id": "4kvbrwm_Eh31",
        "outputId": "50131ccc-3932-4b6e-9119-c7319520b668"
      },
      "execution_count": null,
      "outputs": [
        {
          "output_type": "execute_result",
          "data": {
            "text/plain": [
              "array([[0, 0, 0, 0],\n",
              "       [0, 0, 0, 0],\n",
              "       [0, 0, 0, 0],\n",
              "       [0, 0, 0, 0]])"
            ]
          },
          "metadata": {},
          "execution_count": 25
        }
      ]
    },
    {
      "cell_type": "code",
      "source": [
        "from os import fchdir\n",
        "#string\n",
        "\n",
        "e=np.zeros((4,4), dtype=str)\n",
        "e\n",
        "# zero i.e null;\n",
        "\n",
        "\n",
        "f=np.ones((4,4), dtype=str)\n",
        "f\n",
        "\n",
        "#boolian\n",
        "\n",
        "g=np.ones((3,3), dtype=bool)\n",
        "g"
      ],
      "metadata": {
        "colab": {
          "base_uri": "https://localhost:8080/"
        },
        "id": "8MsTjwhHEyW_",
        "outputId": "c7ec9b82-ff2a-4eac-e316-a2a1c91f2990"
      },
      "execution_count": null,
      "outputs": [
        {
          "output_type": "execute_result",
          "data": {
            "text/plain": [
              "array([[ True,  True,  True],\n",
              "       [ True,  True,  True],\n",
              "       [ True,  True,  True]])"
            ]
          },
          "metadata": {},
          "execution_count": 34
        }
      ]
    },
    {
      "cell_type": "code",
      "source": [],
      "metadata": {
        "id": "MRxhRJHgFI-O"
      },
      "execution_count": null,
      "outputs": []
    }
  ]
}