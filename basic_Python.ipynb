{
  "nbformat": 4,
  "nbformat_minor": 0,
  "metadata": {
    "colab": {
      "provenance": [],
      "authorship_tag": "ABX9TyOw4bTMjgLQ1B3HR5UyUBZx",
      "include_colab_link": true
    },
    "kernelspec": {
      "name": "python3",
      "display_name": "Python 3"
    },
    "language_info": {
      "name": "python"
    }
  },
  "cells": [
    {
      "cell_type": "markdown",
      "metadata": {
        "id": "view-in-github",
        "colab_type": "text"
      },
      "source": [
        "<a href=\"https://colab.research.google.com/github/ErAniketKumar/PythonBasic/blob/main/basic_Python.ipynb\" target=\"_parent\"><img src=\"https://colab.research.google.com/assets/colab-badge.svg\" alt=\"Open In Colab\"/></a>"
      ]
    },
    {
      "cell_type": "code",
      "execution_count": null,
      "metadata": {
        "colab": {
          "base_uri": "https://localhost:8080/"
        },
        "id": "uCVtUQKJ5ctH",
        "outputId": "5f2cc987-3e77-450e-ea4d-8ab268bf5f3e"
      },
      "outputs": [
        {
          "output_type": "stream",
          "name": "stdout",
          "text": [
            "hello\n"
          ]
        }
      ],
      "source": [
        "print(\"we are learning python for matchine learning\")"
      ]
    },
    {
      "cell_type": "code",
      "source": [
        "var1=123;\n",
        "var2=\"hello\";\n",
        "var3=25.9;\n",
        "var4=203;\n",
        "var5=['aniket', 5, \"ojay\"];\n",
        "print(type(var1))\n",
        "print(type(var2))\n",
        "print(type(var3))\n",
        "print(type(var4))\n",
        "print(type(var5))\n"
      ],
      "metadata": {
        "colab": {
          "base_uri": "https://localhost:8080/"
        },
        "id": "jbkGcokF7DWs",
        "outputId": "2a8a2679-d689-4040-bb61-3670db0c3cb8"
      },
      "execution_count": null,
      "outputs": [
        {
          "output_type": "stream",
          "name": "stdout",
          "text": [
            "<class 'int'>\n",
            "<class 'str'>\n",
            "<class 'float'>\n",
            "<class 'int'>\n",
            "<class 'list'>\n"
          ]
        }
      ]
    },
    {
      "cell_type": "code",
      "source": [
        "##core data type is  Array||list ||tuple|| dictionary|set\n",
        "#1 group of hetrogeneous data which is multiple\n",
        "##denote [];\n",
        "\n",
        "#2 tuple group of hetrogeneous data but it is immutabe i.e not change any value i.e nott upate like const\n",
        "#list ();\n",
        "\n",
        "#dictionary\n",
        "#data type in form of key value pair\n",
        "#{key1: value1, key2: value2};\n",
        "\n",
        "#set unordered collection of heterogeneous data\n",
        "\n",
        "\n"
      ],
      "metadata": {
        "id": "xkyc5-vo7xD_"
      },
      "execution_count": null,
      "outputs": []
    },
    {
      "cell_type": "code",
      "source": [
        "mytuple=(20,20.8, \"hello\", True, 34+21j, [12,22,33])\n",
        "print(mytuple);"
      ],
      "metadata": {
        "colab": {
          "base_uri": "https://localhost:8080/"
        },
        "id": "bwtDrAH583B3",
        "outputId": "fdd225bd-922a-450d-a7ed-1a4afb9a7c87"
      },
      "execution_count": null,
      "outputs": [
        {
          "output_type": "stream",
          "name": "stdout",
          "text": [
            "(20, 20.8, 'hello', True, (34+21j), [12, 22, 33])\n"
          ]
        }
      ]
    },
    {
      "cell_type": "code",
      "source": [
        "myset = {20,20.5,\"umang\", True, 34+9j}\n",
        "print(myset);"
      ],
      "metadata": {
        "colab": {
          "base_uri": "https://localhost:8080/"
        },
        "id": "tK9BtfGG9HvY",
        "outputId": "d94a02bd-c6de-4d2f-de39-a6f60562fc8d"
      },
      "execution_count": null,
      "outputs": [
        {
          "output_type": "stream",
          "name": "stdout",
          "text": [
            "{True, 20, 20.5, 'umang', (34+9j)}\n"
          ]
        }
      ]
    },
    {
      "cell_type": "code",
      "source": [
        "mydic={\"name\": \"aniket\", \"age\": 20, \"place\":\"patna\"};\n",
        "print(mydic);"
      ],
      "metadata": {
        "colab": {
          "base_uri": "https://localhost:8080/"
        },
        "id": "HbfpH2xV9hvV",
        "outputId": "fb65a703-9492-41f5-e48c-a724e998fee2"
      },
      "execution_count": null,
      "outputs": [
        {
          "output_type": "stream",
          "name": "stdout",
          "text": [
            "{'name': 'aniket', 'age': 20, 'place': 'patna'}\n"
          ]
        }
      ]
    },
    {
      "cell_type": "code",
      "source": [
        "print(mydic['name'])"
      ],
      "metadata": {
        "colab": {
          "base_uri": "https://localhost:8080/"
        },
        "id": "1nyI_oOF-C2a",
        "outputId": "7be81924-64db-4961-9b0c-6a4928a5dec8"
      },
      "execution_count": null,
      "outputs": [
        {
          "output_type": "stream",
          "name": "stdout",
          "text": [
            "aniket\n"
          ]
        }
      ]
    },
    {
      "cell_type": "code",
      "source": [
        "##consitional statment\n",
        "num=int(input(\"enter a num\"))\n",
        "if num>=0:\n",
        "  print(\"+ve num\");\n",
        "else:\n",
        "  print(\"-ve number\");\n"
      ],
      "metadata": {
        "id": "7Y_ogf8W-JkI",
        "colab": {
          "base_uri": "https://localhost:8080/"
        },
        "outputId": "6299caeb-81b3-43f8-c6af-38ffc557f082"
      },
      "execution_count": null,
      "outputs": [
        {
          "output_type": "stream",
          "name": "stdout",
          "text": [
            "enter a num-1\n",
            "-ve number\n"
          ]
        }
      ]
    },
    {
      "cell_type": "code",
      "source": [
        "##print 1 to n number\n",
        "\n",
        "i=1;\n",
        "while(i<10):\n",
        "  print(i);\n",
        "  i=i+1;\n"
      ],
      "metadata": {
        "id": "pZuBIKt202Vc"
      },
      "execution_count": null,
      "outputs": []
    },
    {
      "cell_type": "code",
      "source": [
        "mylist=[\"patna\",\"mumbai\",\"pune\",\"lucknow\",\"delhi\",\"gujrat\",\"surat\",\"simla\"];\n",
        "i=0;\n",
        "while(i<len(mylist)):\n",
        "  print(mylist[i]);\n",
        "  i=i+1;\n"
      ],
      "metadata": {
        "id": "N5ApRsOWYPIh"
      },
      "execution_count": null,
      "outputs": []
    },
    {
      "cell_type": "markdown",
      "source": [
        "# New Section"
      ],
      "metadata": {
        "id": "1TAg5Srv03P9"
      }
    },
    {
      "cell_type": "code",
      "source": [
        "## for loop\n",
        "for i in range(10):\n",
        "  print(i);\n"
      ],
      "metadata": {
        "id": "UfExhaGkYuT0"
      },
      "execution_count": null,
      "outputs": []
    },
    {
      "cell_type": "code",
      "source": [
        "for i in range(10,20): ##start to end-1\n",
        "  print(i);"
      ],
      "metadata": {
        "colab": {
          "base_uri": "https://localhost:8080/"
        },
        "id": "7vPLwOGkZBJc",
        "outputId": "b3368b00-3ed0-4a32-f23d-32d6e9d74a3a"
      },
      "execution_count": null,
      "outputs": [
        {
          "output_type": "stream",
          "name": "stdout",
          "text": [
            "10\n",
            "11\n",
            "12\n",
            "13\n",
            "14\n",
            "15\n",
            "16\n",
            "17\n",
            "18\n",
            "19\n"
          ]
        }
      ]
    },
    {
      "cell_type": "code",
      "source": [
        "for i in range(10, 100,3): # start end step increment/ decrement\n",
        "  print(i);"
      ],
      "metadata": {
        "colab": {
          "base_uri": "https://localhost:8080/"
        },
        "id": "4ot94cRqZKYQ",
        "outputId": "41314b4e-ac80-4c3d-8807-0d8a3886fb3b"
      },
      "execution_count": null,
      "outputs": [
        {
          "output_type": "stream",
          "name": "stdout",
          "text": [
            "10\n",
            "13\n",
            "16\n",
            "19\n",
            "22\n",
            "25\n",
            "28\n",
            "31\n",
            "34\n",
            "37\n",
            "40\n",
            "43\n",
            "46\n",
            "49\n",
            "52\n",
            "55\n",
            "58\n",
            "61\n",
            "64\n",
            "67\n",
            "70\n",
            "73\n",
            "76\n",
            "79\n",
            "82\n",
            "85\n",
            "88\n",
            "91\n",
            "94\n",
            "97\n"
          ]
        }
      ]
    },
    {
      "cell_type": "code",
      "source": [
        "##function\n",
        "def myfun():\n",
        "    print(\"hello world\");\n",
        "\n",
        "\n",
        "myfun();\n",
        "myfun();"
      ],
      "metadata": {
        "id": "0r70z8-pZSaI",
        "colab": {
          "base_uri": "https://localhost:8080/"
        },
        "outputId": "1040fa12-a398-4af3-b51c-4eac3c89cfce"
      },
      "execution_count": null,
      "outputs": [
        {
          "output_type": "stream",
          "name": "stdout",
          "text": [
            "hello world\n",
            "hello world\n"
          ]
        }
      ]
    },
    {
      "cell_type": "code",
      "source": [
        "#function with parameter\n",
        "\n",
        "def fun(x,y):\n",
        "  print(x+y);\n",
        "fun(2,9)"
      ],
      "metadata": {
        "colab": {
          "base_uri": "https://localhost:8080/"
        },
        "id": "YCSUhRXV5zpi",
        "outputId": "5310f900-5ee3-479a-e416-64ea1c67a3cc"
      },
      "execution_count": null,
      "outputs": [
        {
          "output_type": "stream",
          "name": "stdout",
          "text": [
            "11\n"
          ]
        }
      ]
    },
    {
      "cell_type": "code",
      "source": [
        "def fun2(x, y):\n",
        "  return x+y;\n",
        "print(fun2(10,30))"
      ],
      "metadata": {
        "colab": {
          "base_uri": "https://localhost:8080/"
        },
        "id": "HGa_aH016PlE",
        "outputId": "8b52cd4f-6fed-4299-d653-5c292d5d9a98"
      },
      "execution_count": null,
      "outputs": [
        {
          "output_type": "stream",
          "name": "stdout",
          "text": [
            "40\n"
          ]
        }
      ]
    },
    {
      "cell_type": "code",
      "source": [
        "##function with return statment\n",
        "def fun3(x,y):\n",
        "  return x+y;\n",
        "y=fun3(5,9);\n",
        "print(y);"
      ],
      "metadata": {
        "colab": {
          "base_uri": "https://localhost:8080/"
        },
        "id": "tx3s4NoT6d6H",
        "outputId": "83fa6fb0-eca4-4ebb-93ba-6280162dd578"
      },
      "execution_count": null,
      "outputs": [
        {
          "output_type": "stream",
          "name": "stdout",
          "text": [
            "14\n"
          ]
        }
      ]
    },
    {
      "cell_type": "code",
      "source": [],
      "metadata": {
        "id": "uU61-JlK6pf5"
      },
      "execution_count": null,
      "outputs": []
    }
  ]
}